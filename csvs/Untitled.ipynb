{
 "cells": [
  {
   "cell_type": "code",
   "execution_count": null,
   "metadata": {
    "collapsed": true
   },
   "outputs": [],
   "source": [
    "import json, csv, os\n",
    "\n",
    "pth = '/Users/katie/map-collections/map-collections-geocoding'\n",
    "\n",
    "csv_pth = os.path.join(pth, 'csvs')\n",
    "fname = 'Hackathon 2018 Dirty dataset IZ.csv'\n",
    "\n",
    "with open(os.path.join(csv_pth, fname)) as csvfile:\n",
    "    reader = csv.DictReader(csvfile)\n",
    "    for i, row in enumerate(reader):\n",
    "        print(row['County'])\n",
    "        if i > 200: break\n",
    "            \n"
   ]
  }
 ],
 "metadata": {
  "kernelspec": {
   "display_name": "Python 3",
   "language": "python",
   "name": "python3"
  },
  "language_info": {
   "codemirror_mode": {
    "name": "ipython",
    "version": 3
   },
   "file_extension": ".py",
   "mimetype": "text/x-python",
   "name": "python",
   "nbconvert_exporter": "python",
   "pygments_lexer": "ipython3",
   "version": "3.6.0"
  }
 },
 "nbformat": 4,
 "nbformat_minor": 2
}
